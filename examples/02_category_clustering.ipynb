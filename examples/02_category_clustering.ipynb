{
 "cells": [
  {
   "cell_type": "code",
   "execution_count": 1,
   "metadata": {},
   "outputs": [],
   "source": [
    "import numpy as np\n",
    "import pandas as pd\n",
    "import matplotlib.pyplot as plt\n",
    "\n",
    "from prep_data import load_demo_data\n",
    "from key_drivers import decompose_funnel_metrics\n",
    "\n",
    "data_obj = load_demo_data(\".\")\n",
    "\n",
    "df_sales = data_obj.df_sales\n",
    "df_stores = data_obj.df_stores\n",
    "group_cols = data_obj.group_variables\n",
    "funnel_cols = data_obj.funnel_variables\n",
    "\n",
    "df_metrics = decompose_funnel_metrics(\n",
    "    df_sales, \"report_date\", [\"store_nbr\"], funnel_cols\n",
    ")\n",
    "\n",
    "df_joined = (\n",
    "    df_metrics.set_index(\"store_nbr\")\n",
    "    .join(df_stores.set_index(\"store_nbr\"), on=\"store_nbr\")\n",
    "    .reset_index()\n",
    ")"
   ]
  },
  {
   "cell_type": "markdown",
   "metadata": {},
   "source": [
    "# Finding Key Drivers\n",
    "\n",
    "Once we have our data nicely broken down, we might want a way to automatically detect the major driving factors. This is often a difficult task, as the biggest factors won't always be the most obvious. This search is skewed by the dimensions we choose to look at, and the way we choose to look at them. For example, if you go looking through age-based factors, your conclusions will be skewed to look at age as a major factor.\n",
    "\n",
    "As such, most analysts I've worked with (myself included!) tend to take a \"kitchen sink\" approach when searching for factors. Naturally, this search is not completely blind, and is usually guided by some domain knowledge. However, the goal is to cast a wide net and see what sticks, and try to disprove the obvious hypotheses. This search is slow and tedious, and often involves a lot of manual work. It also easily misses out on interactions between factors, and can be skewed by the order in which factors are considered.\n",
    "\n",
    "To accelerate this manual work, it's tempting to look at effects as driven by \"individual factors\". Statistcal approaches work well here, and machine learning approaches such as boosted trees are exceptionally useful for detecting interactions between factors, even in high dimensions. Ignore issues with interpretability for a moment, as tools like Shap can be (ab)used to get a good proxy for contribution.\n",
    "\n",
    "The biggest issue here is that effects may be driven not just by the contributions of individuals, but also by the size of their demographic. Both machine learning and statistical methods work with averages, but sums pay your salary. In physics terms, we're less interested in the \"temperature\" of a group of particles, and more interested in the \"heat\" of the group. For example, a small group of people with a high spend may have a smaller effect on overall profit than a large group of people with a low average spend. Accordingly, if we want to \"double down on success\", our efforts to drive incremental revenue may be best focused in the latter group!\n",
    "\n",
    "To date, the only method I've found that can handle consistently getting at the core drivers of a problem is the \"key drivers\" method implemented in this package. This process works as follows:\n",
    "\n",
    "1. Group your data by the dimensions you're interested in. For each group, calculate the sum of the target KPI.\n",
    "1. Declare some threshold for the minimum impact you're interested in. This could be a percentage of the total, or a fixed value. I normally use a percentage of the total, so I divide the total KPI by the mean.\n",
    "1. Find all contributions from all columns with an effect greater than the threshold ordered by the smallest membership. This represents the smallest groups with an outsized effect on the target KPI, so include them before bigger groups.\n",
    "1. This one's important: _remove the observations that are in this group from the data_. This is the key step that allows us to find the next biggest driver.\n",
    "1. Assuming you have $n$ columns in the previous step. Repeat steps 3-4 on combinations of $n-1$ columns.\n",
    "1. Repeat step 5 until you're working with individual columns.\n",
    "\n",
    "Now you might observe that this process is...somewhat inefficient. I agree. And if you were working with thousands of columns...well, you'd be in trouble. However, this process is the only one I've found that consistently gets at the core drivers of a problem. If you know of a better one, and I'd be willing to bet that there are MANY people out there who know more about this stuff than me, please let me know!\n",
    "\n",
    "For the rest of us, this approach is also great way to get a sense of the interactions between factors as part of an EDA. Besides, if you're putting in 1000 columns, you'd probably struggle to interpret the results for business stakeholders anyway. Have a chat to your counterparts about likely factors and try get that kitchen sink down from the size of a swimming pool to...uh...a kitchen sink.\n",
    "\n",
    "## Example\n",
    "The function assumes you can neatly sum all variables, and so have denominated all factors in your key KPI. (If this seems like magic, check the last notebook!) For funsies, we're going to concentrate on the profit gain from `items_per_transaction` and `income_per_item`. There are many other factors that you could care about given your context (see [the following article](https://commoncog.com/the-amazon-weekly-business-review/)) but we're going to assume that these two are the most important for now.\n",
    "\n",
    "We'll set the target number of factors to 10; this means we're hunting for groupings that comprise 10% or greater of total profit. We can tweak both the target number of factors and the threshold independently, but I've found that the target number of factors is the most important parameter to tweak."
   ]
  },
  {
   "cell_type": "code",
   "execution_count": 2,
   "metadata": {},
   "outputs": [
    {
     "data": {
      "text/plain": [
       "[DrivingFactor(categories={'store_city': 'Quito', 'store_state': 'Pichincha', 'store_type': 'A', 'store_cluster': '14', 'opening_time_cat': 'already open'}, total=0.10862596457116738, vcount=144, id_count=3),\n",
       " DrivingFactor(categories={'store_city': 'Quito', 'store_state': 'Pichincha', 'store_type': 'A', 'opening_time_cat': 'already open'}, total=0.12307345564186359, vcount=144, id_count=3),\n",
       " DrivingFactor(categories={'store_city': 'Quito', 'store_state': 'Pichincha', 'store_type': 'D', 'opening_time_cat': 'already open'}, total=0.16594084264371697, vcount=333, id_count=7),\n",
       " DrivingFactor(categories={'store_city': 'Guayaquil', 'store_state': 'Guayas', 'opening_time_cat': 'already open'}, total=0.11634425442394761, vcount=336, id_count=7),\n",
       " DrivingFactor(categories={'store_type': 'B', 'store_cluster': '6.0'}, total=0.10326773548796588, vcount=240, id_count=5),\n",
       " DrivingFactor(categories={'store_type': 'C', 'opening_time_cat': 'already open'}, total=0.16083416067337672, vcount=576, id_count=12),\n",
       " DrivingFactor(categories={'store_type': 'D'}, total=0.10908656575633993, vcount=432, id_count=9),\n",
       " DrivingFactor(categories={'opening_time_cat': 'already open'}, total=0.1766738031040897, vcount=528, id_count=11)]"
      ]
     },
     "execution_count": 2,
     "metadata": {},
     "output_type": "execute_result"
    }
   ],
   "source": [
    "from key_drivers import find_key_drivers\n",
    "\n",
    "columns_of_interest = [\"items_per_transaction\", \"income_per_item\"]\n",
    "\n",
    "key_drivers = find_key_drivers(\n",
    "    df_joined,\n",
    "    10,\n",
    "    \"store_nbr\",\n",
    "    group_cols,\n",
    "    columns_of_interest,\n",
    ")\n",
    "key_drivers"
   ]
  },
  {
   "cell_type": "markdown",
   "metadata": {},
   "source": [
    "## But that seems kind of lumpy...\n",
    "\n",
    "Great point! By specifying a small number of factors, we're hunting for very big effects. To achieve this, we need to merge together a large number of categories to get the requisite impact on the target KPI.\n",
    "\n",
    "However, if we make the target number a bit larger..."
   ]
  },
  {
   "cell_type": "code",
   "execution_count": 3,
   "metadata": {},
   "outputs": [
    {
     "data": {
      "text/plain": [
       "[DrivingFactor(categories={'store_city': 'Quito', 'store_state': 'Pichincha', 'store_type': 'A', 'store_cluster': '11', 'opening_time_cat': 'already open'}, total=0.08264584231232966, vcount=96, id_count=2),\n",
       " DrivingFactor(categories={'store_city': 'Quito', 'store_state': 'Pichincha', 'store_type': 'A', 'store_cluster': '14', 'opening_time_cat': 'already open'}, total=0.10862596457116738, vcount=144, id_count=3),\n",
       " DrivingFactor(categories={'store_city': 'Quito', 'store_state': 'Pichincha', 'store_type': 'D', 'store_cluster': '8', 'opening_time_cat': 'already open'}, total=0.09439109307866639, vcount=144, id_count=3),\n",
       " DrivingFactor(categories={'store_city': 'Quito', 'store_state': 'Pichincha', 'store_type': 'D', 'store_cluster': '13', 'opening_time_cat': 'already open'}, total=0.05500901712920686, vcount=141, id_count=3),\n",
       " DrivingFactor(categories={'store_state': 'Pichincha', 'store_type': 'B', 'store_cluster': '6.0', 'opening_time_cat': 'already open'}, total=0.05429017254983364, vcount=96, id_count=2),\n",
       " DrivingFactor(categories={'store_type': 'D', 'store_cluster': '1.0', 'opening_time_cat': 'already open'}, total=0.05201089218608746, vcount=144, id_count=3),\n",
       " DrivingFactor(categories={'store_city': 'Quito', 'store_state': 'Pichincha', 'opening_time_cat': 'already open'}, total=0.0989923752204593, vcount=240, id_count=5),\n",
       " DrivingFactor(categories={'store_city': 'Guayaquil', 'store_state': 'Guayas', 'opening_time_cat': 'already open'}, total=0.09301441818883766, vcount=288, id_count=6),\n",
       " DrivingFactor(categories={'store_type': 'C', 'store_cluster': '3.0', 'opening_time_cat': 'already open'}, total=0.07898882749849437, vcount=240, id_count=5),\n",
       " DrivingFactor(categories={'store_type': 'E', 'store_cluster': '10.0'}, total=0.05075520760418144, vcount=144, id_count=3),\n",
       " DrivingFactor(categories={'store_type': 'C', 'opening_time_cat': 'already open'}, total=0.05480757113974532, vcount=240, id_count=5),\n",
       " DrivingFactor(categories={'store_type': 'D', 'opening_time_cat': 'already open'}, total=0.06520660313893636, vcount=240, id_count=5),\n",
       " DrivingFactor(categories={'opening_time_cat': 'already open'}, total=0.06651507920023748, vcount=144, id_count=3),\n",
       " DrivingFactor(categories={'store_type': 'B'}, total=0.06784016256388116, vcount=192, id_count=4)]"
      ]
     },
     "execution_count": 3,
     "metadata": {},
     "output_type": "execute_result"
    }
   ],
   "source": [
    "key_drivers = find_key_drivers(\n",
    "    df_joined,\n",
    "    20,\n",
    "    \"store_nbr\",\n",
    "    group_cols,\n",
    "    columns_of_interest,\n",
    ")\n",
    "key_drivers"
   ]
  },
  {
   "cell_type": "markdown",
   "metadata": {},
   "source": [
    "We see more granular data emerging. If we continue, we'll even begin to see the contributions of individual stores to overall profit. Stepping the number of target factors \"up\" in this is a great way to get a sense of the \"shape\" of the data, and to see where the biggest opportunities lie."
   ]
  },
  {
   "cell_type": "code",
   "execution_count": 4,
   "metadata": {},
   "outputs": [
    {
     "data": {
      "text/plain": [
       "[DrivingFactor(categories={'store_nbr': '3'}, total=0.04461223966325644, vcount=48, id_count=1),\n",
       " DrivingFactor(categories={'store_nbr': '44'}, total=0.040427613329533936, vcount=48, id_count=1),\n",
       " DrivingFactor(categories={'store_nbr': '45'}, total=0.04831346528078318, vcount=48, id_count=1),\n",
       " DrivingFactor(categories={'store_nbr': '46'}, total=0.03400135186034735, vcount=48, id_count=1),\n",
       " DrivingFactor(categories={'store_nbr': '47'}, total=0.042672169443293065, vcount=48, id_count=1),\n",
       " DrivingFactor(categories={'store_nbr': '49'}, total=0.03433237703154648, vcount=48, id_count=1),\n",
       " DrivingFactor(categories={'store_city': 'Quito', 'store_state': 'Pichincha', 'store_type': 'D', 'store_cluster': '8', 'opening_time_cat': 'already open'}, total=0.04977885341540996, vcount=96, id_count=2),\n",
       " DrivingFactor(categories={'store_city': 'Quito', 'store_state': 'Pichincha', 'store_type': 'D', 'store_cluster': '13', 'opening_time_cat': 'already open'}, total=0.05500901712920686, vcount=141, id_count=3),\n",
       " DrivingFactor(categories={'store_city': 'Quito', 'store_state': 'Pichincha', 'store_type': 'B', 'store_cluster': '6.0'}, total=0.04597985248543251, vcount=96, id_count=2),\n",
       " DrivingFactor(categories={'store_city': 'Guayaquil', 'store_state': 'Guayas', 'store_type': 'D', 'opening_time_cat': 'already open'}, total=0.033365999753173343, vcount=96, id_count=2),\n",
       " DrivingFactor(categories={'store_city': 'Ambato', 'store_state': 'Tungurahua', 'opening_time_cat': 'already open'}, total=0.03387775140991139, vcount=96, id_count=2),\n",
       " DrivingFactor(categories={'store_city': 'Cuenca', 'store_state': 'Azuay', 'opening_time_cat': 'already open'}, total=0.03419678009056276, vcount=96, id_count=2),\n",
       " DrivingFactor(categories={'store_city': 'Machala', 'store_state': 'El Oro', 'opening_time_cat': 'already open'}, total=0.04190996237880644, vcount=96, id_count=2),\n",
       " DrivingFactor(categories={'store_state': 'Pichincha', 'store_type': 'B', 'opening_time_cat': 'already open'}, total=0.04266436467549607, vcount=96, id_count=2),\n",
       " DrivingFactor(categories={'store_type': 'E', 'store_cluster': '10.0', 'opening_time_cat': 'already open'}, total=0.04208805145250598, vcount=96, id_count=2),\n",
       " DrivingFactor(categories={'store_city': 'Guayaquil', 'store_state': 'Guayas', 'opening_time_cat': 'already open'}, total=0.06376751733904058, vcount=192, id_count=4),\n",
       " DrivingFactor(categories={'store_city': 'Quito', 'store_state': 'Pichincha', 'opening_time_cat': 'already open'}, total=0.0755309377385077, vcount=192, id_count=4),\n",
       " DrivingFactor(categories={'store_type': 'C', 'store_cluster': '3.0', 'opening_time_cat': 'already open'}, total=0.053269882649413736, vcount=192, id_count=4),\n",
       " DrivingFactor(categories={'store_type': 'C', 'store_cluster': '15.0', 'opening_time_cat': 'already open'}, total=0.04203075664607197, vcount=192, id_count=4),\n",
       " DrivingFactor(categories={'store_type': 'D', 'opening_time_cat': 'already open'}, total=0.05727458963420246, vcount=192, id_count=4),\n",
       " DrivingFactor(categories={'store_cluster': '10.0'}, total=0.04674049310915807, vcount=144, id_count=3)]"
      ]
     },
     "execution_count": 4,
     "metadata": {},
     "output_type": "execute_result"
    }
   ],
   "source": [
    "key_drivers = find_key_drivers(\n",
    "    df_joined,\n",
    "    30,\n",
    "    \"store_nbr\",\n",
    "    group_cols,\n",
    "    columns_of_interest,\n",
    ")\n",
    "key_drivers"
   ]
  },
  {
   "cell_type": "markdown",
   "metadata": {},
   "source": [
    "# Reducing Granularity\n",
    "\n",
    "While the above categories represent a good start, it's often the case that subpopulations exist at a higher level than our explicit data allows. These subpopulations may be driven by factors that we haven't considered, or that we can't measure. For example, we might not have data on the number of children in a household, but we might have data on the level of grocery spending. Households with children may have a different spending pattern to those without, and so we might want identify these common traits.\n",
    "\n",
    "As is often the case, we're often not even sure of what we're looking for when we do this! But if we make some simple assumptions, such as:\n",
    "- Relevant subpopulations will behave similarly in terms of our target KPI\n",
    "- Relevant subpopulations will have a similar size in terms of our target KPI\n",
    "- Conditional on other dimensions, subpopulations will post-hoc have some unifying characteristic\n",
    "Then we can apply semi/unsupervised methods to identify these subpopulations.\n",
    "\n",
    "In this case, we're going to use the combination of UMAP and DBSCAN to identify these subpopulations. UMAP is a dimensionality reduction technique that is particularly good at preserving local structure, and DBSCAN is a clustering algorithm that is good at identifying clusters without presuming the number of clusters that ought to be there. Together, they can identify subpopulations that are similar in terms of our target KPI, and that are of a similar size.\n",
    "\n",
    "## Example\n",
    "\n",
    "We're going to use the same data as above, but we're going to use UMAP and DBSCAN to identify subpopulations. We'll use the same target KPI, but we'll use the sum of the target KPI as the target KPI for DBSCAN.\n",
    "\n",
    "Often you'd have to tune the algorithm to get consisitent results, but I've found that the following parameters work well for most datasets. If you have concerns about consistency, run the algorithm a few times and check if the results are consistent."
   ]
  },
  {
   "cell_type": "code",
   "execution_count": 6,
   "metadata": {},
   "outputs": [],
   "source": [
    "from key_drivers import reduce_cat_columns\n",
    "\n",
    "df_reduced = reduce_cat_columns(\n",
    "    df_joined,\n",
    "    \"store_nbr\",\n",
    "    group_cols,\n",
    "    columns_of_interest,\n",
    ")"
   ]
  },
  {
   "cell_type": "code",
   "execution_count": 9,
   "metadata": {},
   "outputs": [
    {
     "name": "stdout",
     "output_type": "stream",
     "text": [
      "store_city\n",
      "(Santo Domingo|Latacunga|Manta|El Carmen|Ibarra|Playas|Puyo|Riobamba|Salinas)    0.24102\n",
      "(Machala|Babahoyo|Daule|Esmeraldas|Guaranda|Libertad|Loja|Quevedo)               0.16686\n",
      "Name: proportion, dtype: float64\n",
      "\n",
      "store_state\n",
      "(Manabi|Santo Domingo de los Tsachilas|Cotopaxi|Chimborazo|Imbabura|Pastaza|Santa Elena)    0.22248\n",
      "(El Oro|Los Rios|Bolivar|Esmeraldas|Loja)                                                   0.12978\n",
      "Name: proportion, dtype: float64\n",
      "\n",
      "store_cluster\n",
      "(15|7)     0.12978\n",
      "(12|16)    0.03708\n",
      "Name: proportion, dtype: float64\n",
      "\n",
      "opening_time_cat\n",
      "(rush_open|brand_new)    0.11124\n",
      "Name: proportion, dtype: float64\n",
      "\n"
     ]
    }
   ],
   "source": [
    "for column in group_cols:\n",
    "    modified = df_reduced[column].value_counts(normalize=True)\n",
    "    modified = modified[~modified.index.isin(df_stores[column].unique())]\n",
    "    if len(modified) == 0:\n",
    "        continue\n",
    "    print(modified, end=\"\\n\\n\")"
   ]
  },
  {
   "cell_type": "markdown",
   "metadata": {},
   "source": [
    "Notice that in most cases, the smaller chunks are moved into similar categories. These smaller categories often make little impact on their own, and so their aggregate effect is sometimes overlooked. If you suspect this to be the case in your data, this is a great way to identify these subpopulations and to highlight their impact on your business objectives.\n",
    "\n",
    "We can then plug these values into the same KPI sweeps we used above:"
   ]
  },
  {
   "cell_type": "code",
   "execution_count": 10,
   "metadata": {},
   "outputs": [
    {
     "data": {
      "text/plain": [
       "[DrivingFactor(categories={'store_city': 'Quito', 'store_state': 'Pichincha', 'store_type': 'A', 'store_cluster': '14', 'opening_time_cat': 'already open'}, total=0.10862596457116738, vcount=144, id_count=3),\n",
       " DrivingFactor(categories={'store_city': 'Quito', 'store_state': 'Pichincha', 'store_type': 'A', 'opening_time_cat': 'already open'}, total=0.12307345564186359, vcount=144, id_count=3),\n",
       " DrivingFactor(categories={'store_city': 'Quito', 'store_state': 'Pichincha', 'store_type': 'D', 'opening_time_cat': 'already open'}, total=0.16594084264371697, vcount=333, id_count=7),\n",
       " DrivingFactor(categories={'store_city': '(Machala|Babahoyo|Daule|Esmeraldas|Guaranda|Libertad|Loja|Quevedo)', 'store_state': '(El Oro|Los Rios|Bolivar|Esmeraldas|Loja)', 'opening_time_cat': 'already open'}, total=0.13784527491869775, vcount=336, id_count=7),\n",
       " DrivingFactor(categories={'store_city': 'Guayaquil', 'store_state': 'Guayas', 'opening_time_cat': 'already open'}, total=0.11634425442394761, vcount=336, id_count=7),\n",
       " DrivingFactor(categories={'store_type': 'B', 'store_cluster': '6'}, total=0.10326773548796588, vcount=240, id_count=5),\n",
       " DrivingFactor(categories={'store_type': 'C'}, total=0.10033671009893594, vcount=480, id_count=10),\n",
       " DrivingFactor(categories={'store_city': '(Santo Domingo|Latacunga|Manta|El Carmen|Ibarra|Playas|Puyo|Riobamba|Salinas)'}, total=0.10897962770445128, vcount=576, id_count=12),\n",
       " DrivingFactor(categories={'opening_time_cat': 'already open'}, total=0.19966268885876867, vcount=768, id_count=16)]"
      ]
     },
     "execution_count": 10,
     "metadata": {},
     "output_type": "execute_result"
    }
   ],
   "source": [
    "key_drivers = find_key_drivers(\n",
    "    df_reduced,\n",
    "    10,\n",
    "    \"store_nbr\",\n",
    "    group_cols,\n",
    "    columns_of_interest,\n",
    ")\n",
    "key_drivers"
   ]
  },
  {
   "cell_type": "markdown",
   "metadata": {},
   "source": [
    "And indeed, if we look at the result, several aggregated categories turn out to have a large impact on the KPIs we're studying."
   ]
  }
 ],
 "metadata": {
  "kernelspec": {
   "display_name": ".venv",
   "language": "python",
   "name": "python3"
  },
  "language_info": {
   "codemirror_mode": {
    "name": "ipython",
    "version": 3
   },
   "file_extension": ".py",
   "mimetype": "text/x-python",
   "name": "python",
   "nbconvert_exporter": "python",
   "pygments_lexer": "ipython3",
   "version": "3.11.9"
  }
 },
 "nbformat": 4,
 "nbformat_minor": 2
}
